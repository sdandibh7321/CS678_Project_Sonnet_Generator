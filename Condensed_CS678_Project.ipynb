{
 "cells": [
  {
   "cell_type": "code",
   "execution_count": 1,
   "id": "b65b4a06-afa8-4684-870b-c8f59675e4a8",
   "metadata": {},
   "outputs": [
    {
     "name": "stdout",
     "output_type": "stream",
     "text": [
      "Defaulting to user installation because normal site-packages is not writeable\n",
      "Requirement already satisfied: torch in /opt/sw/spack/apps/linux-rhel8-x86_64_v2/gcc-10.3.0/python-3.9.9-jh/lib/python3.9/site-packages (1.12.1+cu113)\n",
      "Requirement already satisfied: typing-extensions in /home/sdandibh/.local/lib/python3.9/site-packages (from torch) (4.8.0)\n",
      "Defaulting to user installation because normal site-packages is not writeable\n",
      "Requirement already satisfied: transformers in /home/sdandibh/.local/lib/python3.9/site-packages (4.35.2)\n",
      "Requirement already satisfied: filelock in /opt/sw/spack/apps/linux-rhel8-x86_64_v2/gcc-10.3.0/python-3.9.9-jh/lib/python3.9/site-packages (from transformers) (3.6.0)\n",
      "Requirement already satisfied: huggingface-hub<1.0,>=0.16.4 in /home/sdandibh/.local/lib/python3.9/site-packages (from transformers) (0.19.4)\n",
      "Requirement already satisfied: numpy>=1.17 in /opt/sw/spack/apps/linux-rhel8-x86_64_v2/gcc-10.3.0/python-3.9.9-jh/lib/python3.9/site-packages (from transformers) (1.22.3)\n",
      "Requirement already satisfied: packaging>=20.0 in /opt/sw/spack/apps/linux-rhel8-x86_64_v2/gcc-10.3.0/python-3.9.9-jh/lib/python3.9/site-packages (from transformers) (21.3)\n",
      "Requirement already satisfied: pyyaml>=5.1 in /opt/sw/spack/apps/linux-rhel8-x86_64_v2/gcc-10.3.0/python-3.9.9-jh/lib/python3.9/site-packages (from transformers) (6.0)\n",
      "Requirement already satisfied: regex!=2019.12.17 in /opt/sw/spack/apps/linux-rhel8-x86_64_v2/gcc-10.3.0/python-3.9.9-jh/lib/python3.9/site-packages (from transformers) (2022.3.15)\n",
      "Requirement already satisfied: requests in /opt/sw/spack/apps/linux-rhel8-x86_64_v2/gcc-10.3.0/python-3.9.9-jh/lib/python3.9/site-packages (from transformers) (2.27.1)\n",
      "Requirement already satisfied: tokenizers<0.19,>=0.14 in /home/sdandibh/.local/lib/python3.9/site-packages (from transformers) (0.15.0)\n",
      "Requirement already satisfied: safetensors>=0.3.1 in /home/sdandibh/.local/lib/python3.9/site-packages (from transformers) (0.4.0)\n",
      "Requirement already satisfied: tqdm>=4.27 in /opt/sw/spack/apps/linux-rhel8-x86_64_v2/gcc-10.3.0/python-3.9.9-jh/lib/python3.9/site-packages (from transformers) (4.63.1)\n",
      "Requirement already satisfied: fsspec>=2023.5.0 in /home/sdandibh/.local/lib/python3.9/site-packages (from huggingface-hub<1.0,>=0.16.4->transformers) (2023.10.0)\n",
      "Requirement already satisfied: typing-extensions>=3.7.4.3 in /home/sdandibh/.local/lib/python3.9/site-packages (from huggingface-hub<1.0,>=0.16.4->transformers) (4.8.0)\n",
      "Requirement already satisfied: pyparsing!=3.0.5,>=2.0.2 in /opt/sw/spack/apps/linux-rhel8-x86_64_v2/gcc-10.3.0/python-3.9.9-jh/lib/python3.9/site-packages (from packaging>=20.0->transformers) (3.0.7)\n",
      "Requirement already satisfied: urllib3<1.27,>=1.21.1 in /opt/sw/spack/apps/linux-rhel8-x86_64_v2/gcc-10.3.0/python-3.9.9-jh/lib/python3.9/site-packages (from requests->transformers) (1.26.9)\n",
      "Requirement already satisfied: certifi>=2017.4.17 in /opt/sw/spack/apps/linux-rhel8-x86_64_v2/gcc-10.3.0/python-3.9.9-jh/lib/python3.9/site-packages (from requests->transformers) (2021.10.8)\n",
      "Requirement already satisfied: charset-normalizer~=2.0.0 in /opt/sw/spack/apps/linux-rhel8-x86_64_v2/gcc-10.3.0/python-3.9.9-jh/lib/python3.9/site-packages (from requests->transformers) (2.0.12)\n",
      "Requirement already satisfied: idna<4,>=2.5 in /opt/sw/spack/apps/linux-rhel8-x86_64_v2/gcc-10.3.0/python-3.9.9-jh/lib/python3.9/site-packages (from requests->transformers) (3.3)\n",
      "Defaulting to user installation because normal site-packages is not writeable\n",
      "Requirement already satisfied: pyspellchecker in /home/sdandibh/.local/lib/python3.9/site-packages (0.7.2)\n"
     ]
    }
   ],
   "source": [
    "# Install the required libraries\n",
    "!pip install torch\n",
    "!pip install transformers\n",
    "!pip install pyspellchecker"
   ]
  },
  {
   "cell_type": "code",
   "execution_count": 2,
   "id": "5948e6c4-c241-4a21-bfed-92ce42372c30",
   "metadata": {},
   "outputs": [
    {
     "name": "stdout",
     "output_type": "stream",
     "text": [
      "Epoch 1/15\n"
     ]
    },
    {
     "name": "stderr",
     "output_type": "stream",
     "text": [
      "Training: 100%|██████████| 20/20 [00:02<00:00,  9.51it/s]\n"
     ]
    },
    {
     "name": "stdout",
     "output_type": "stream",
     "text": [
      "Epoch 2/15\n"
     ]
    },
    {
     "name": "stderr",
     "output_type": "stream",
     "text": [
      "Training: 100%|██████████| 20/20 [00:01<00:00, 14.53it/s]\n"
     ]
    },
    {
     "name": "stdout",
     "output_type": "stream",
     "text": [
      "Epoch 3/15\n"
     ]
    },
    {
     "name": "stderr",
     "output_type": "stream",
     "text": [
      "Training: 100%|██████████| 20/20 [00:01<00:00, 14.51it/s]\n"
     ]
    },
    {
     "name": "stdout",
     "output_type": "stream",
     "text": [
      "Epoch 4/15\n"
     ]
    },
    {
     "name": "stderr",
     "output_type": "stream",
     "text": [
      "Training: 100%|██████████| 20/20 [00:01<00:00, 14.54it/s]\n"
     ]
    },
    {
     "name": "stdout",
     "output_type": "stream",
     "text": [
      "Epoch 5/15\n"
     ]
    },
    {
     "name": "stderr",
     "output_type": "stream",
     "text": [
      "Training: 100%|██████████| 20/20 [00:01<00:00, 14.52it/s]\n"
     ]
    },
    {
     "name": "stdout",
     "output_type": "stream",
     "text": [
      "Epoch 6/15\n"
     ]
    },
    {
     "name": "stderr",
     "output_type": "stream",
     "text": [
      "Training: 100%|██████████| 20/20 [00:01<00:00, 14.51it/s]\n"
     ]
    },
    {
     "name": "stdout",
     "output_type": "stream",
     "text": [
      "Epoch 7/15\n"
     ]
    },
    {
     "name": "stderr",
     "output_type": "stream",
     "text": [
      "Training: 100%|██████████| 20/20 [00:01<00:00, 14.55it/s]\n"
     ]
    },
    {
     "name": "stdout",
     "output_type": "stream",
     "text": [
      "Epoch 8/15\n"
     ]
    },
    {
     "name": "stderr",
     "output_type": "stream",
     "text": [
      "Training: 100%|██████████| 20/20 [00:01<00:00, 14.56it/s]\n"
     ]
    },
    {
     "name": "stdout",
     "output_type": "stream",
     "text": [
      "Epoch 9/15\n"
     ]
    },
    {
     "name": "stderr",
     "output_type": "stream",
     "text": [
      "Training: 100%|██████████| 20/20 [00:01<00:00, 14.56it/s]\n"
     ]
    },
    {
     "name": "stdout",
     "output_type": "stream",
     "text": [
      "Epoch 10/15\n"
     ]
    },
    {
     "name": "stderr",
     "output_type": "stream",
     "text": [
      "Training: 100%|██████████| 20/20 [00:01<00:00, 14.55it/s]\n"
     ]
    },
    {
     "name": "stdout",
     "output_type": "stream",
     "text": [
      "Epoch 11/15\n"
     ]
    },
    {
     "name": "stderr",
     "output_type": "stream",
     "text": [
      "Training: 100%|██████████| 20/20 [00:01<00:00, 14.55it/s]\n"
     ]
    },
    {
     "name": "stdout",
     "output_type": "stream",
     "text": [
      "Epoch 12/15\n"
     ]
    },
    {
     "name": "stderr",
     "output_type": "stream",
     "text": [
      "Training: 100%|██████████| 20/20 [00:01<00:00, 14.55it/s]\n"
     ]
    },
    {
     "name": "stdout",
     "output_type": "stream",
     "text": [
      "Epoch 13/15\n"
     ]
    },
    {
     "name": "stderr",
     "output_type": "stream",
     "text": [
      "Training: 100%|██████████| 20/20 [00:01<00:00, 14.56it/s]\n"
     ]
    },
    {
     "name": "stdout",
     "output_type": "stream",
     "text": [
      "Epoch 14/15\n"
     ]
    },
    {
     "name": "stderr",
     "output_type": "stream",
     "text": [
      "Training: 100%|██████████| 20/20 [00:01<00:00, 14.55it/s]\n"
     ]
    },
    {
     "name": "stdout",
     "output_type": "stream",
     "text": [
      "Epoch 15/15\n"
     ]
    },
    {
     "name": "stderr",
     "output_type": "stream",
     "text": [
      "Training: 100%|██████████| 20/20 [00:01<00:00, 14.53it/s]\n"
     ]
    },
    {
     "data": {
      "text/plain": [
       "('finetuned_model/tokenizer_config.json',\n",
       " 'finetuned_model/special_tokens_map.json',\n",
       " 'finetuned_model/vocab.json',\n",
       " 'finetuned_model/merges.txt',\n",
       " 'finetuned_model/added_tokens.json')"
      ]
     },
     "execution_count": 2,
     "metadata": {},
     "output_type": "execute_result"
    }
   ],
   "source": [
    "import torch\n",
    "from transformers import GPT2LMHeadModel, GPT2Tokenizer, GPT2Config\n",
    "from torch.utils.data import Dataset, DataLoader\n",
    "from tqdm import tqdm\n",
    "import csv\n",
    "\n",
    "# Define the GPT-2 model and tokenizer\n",
    "model_name = \"gpt2\"\n",
    "model = GPT2LMHeadModel.from_pretrained(model_name)\n",
    "tokenizer = GPT2Tokenizer.from_pretrained(model_name)\n",
    "tokenizer.pad_token = tokenizer.eos_token  # Set pad_token to eos_token\n",
    "\n",
    "\n",
    "# Set device (GPU if available, otherwise CPU)\n",
    "device = torch.device(\"cuda\" if torch.cuda.is_available() else \"cpu\")\n",
    "model.to(device)\n",
    "\n",
    "# Define a custom dataset to load sonnets from a CSV file\n",
    "class SonnetDataset(Dataset):\n",
    "    def __init__(self, csv_file, tokenizer, max_length=128):\n",
    "        self.sonnets = self.load_sonnets(csv_file)\n",
    "        self.tokenizer = tokenizer\n",
    "        self.max_length = max_length\n",
    "\n",
    "    def load_sonnets(self, csv_file):\n",
    "        sonnets = []\n",
    "        with open(csv_file, 'r', encoding='utf-8') as file:\n",
    "            reader = csv.reader(file)\n",
    "            for row in reader:\n",
    "                sonnet = row[0].strip()  # Assuming sonnet is in the first column\n",
    "                if sonnet:\n",
    "                    sonnets.append(sonnet)\n",
    "        return sonnets\n",
    "\n",
    "    def __len__(self):\n",
    "        return len(self.sonnets)\n",
    "\n",
    "    def __getitem__(self, idx):\n",
    "        sonnet = self.sonnets[idx]\n",
    "        encoding = self.tokenizer(sonnet, return_tensors=\"pt\", truncation=True, max_length=self.max_length, padding=\"max_length\")\n",
    "        return {key: encoding[key][0] for key in encoding}\n",
    "\n",
    "# Set up your dataset and DataLoader\n",
    "csv_file_path = \"shakespeare_sonnets.csv\"  # Adjust the path to your sonnet dataset\n",
    "sonnet_dataset = SonnetDataset(csv_file_path, tokenizer)\n",
    "train_loader = DataLoader(sonnet_dataset, batch_size=8, shuffle=True)\n",
    "\n",
    "# Set up training parameters\n",
    "num_epochs = 15\n",
    "learning_rate = 5e-5\n",
    "optimizer = torch.optim.AdamW(model.parameters(), lr=learning_rate)\n",
    "scheduler = torch.optim.lr_scheduler.StepLR(optimizer, step_size=1, gamma=0.95)\n",
    "\n",
    "# Training loop\n",
    "model.train()\n",
    "for epoch in range(num_epochs):\n",
    "    print(f\"Epoch {epoch + 1}/{num_epochs}\")\n",
    "    for batch in tqdm(train_loader, desc=\"Training\"):\n",
    "        inputs = {key: batch[key].to(device) for key in batch}\n",
    "        outputs = model(**inputs, labels=inputs[\"input_ids\"])\n",
    "        loss = outputs.loss\n",
    "        loss.backward()\n",
    "        optimizer.step()\n",
    "        optimizer.zero_grad()\n",
    "        \n",
    "    scheduler.step()\n",
    "\n",
    "# Save the trained model\n",
    "output_model_path = \"finetuned_model\"\n",
    "model.save_pretrained(output_model_path)\n",
    "tokenizer.save_pretrained(output_model_path)"
   ]
  },
  {
   "cell_type": "code",
   "execution_count": 3,
   "id": "c2f31a6c-3185-479d-9b48-198a8d789f91",
   "metadata": {},
   "outputs": [],
   "source": [
    "# Generate a sonnet using the fine-tuned model with TextGenerationConfig\n",
    "config = GPT2Config.from_pretrained(output_model_path)\n",
    "config.max_length = 200  # 14 lines with 10 syllables each\n",
    "config.num_return_sequences = 1  # Number of sequences to generate\n",
    "model = GPT2LMHeadModel.from_pretrained(output_model_path, config=config)\n",
    "model.to(device)  # Move the model back to the device\n",
    "\n",
    "import syllables\n",
    "\n",
    "def post_process_sonnet(generated_sonnet):\n",
    "    # Split the text into lines based on syllable count (10 syllables per line)\n",
    "    syllables_per_line = 10\n",
    "    words = generated_sonnet.split()\n",
    "    lines = [\" \".join(words[i:i+syllables_per_line]) for i in range(0, len(words), syllables_per_line)]\n",
    "\n",
    "    # Capitalize the first word of each line\n",
    "    lines = [line.capitalize() for line in lines]\n",
    "\n",
    "    # Ensure each line has exactly 10 syllables\n",
    "    for i, line in enumerate(lines):\n",
    "        current_syllables = sum(syllables.estimate(word) for word in line.split())\n",
    "        if current_syllables > syllables_per_line:\n",
    "            # Truncate words if the line has more than 10 syllables\n",
    "            words_in_line = line.split()\n",
    "            while current_syllables > syllables_per_line:\n",
    "                # Remove the last word until the line has exactly 10 syllables\n",
    "                last_word = words_in_line.pop()\n",
    "                current_syllables -= syllables.estimate(last_word)\n",
    "            lines[i] = \" \".join(words_in_line)\n",
    "        elif current_syllables < syllables_per_line:\n",
    "            # Pad words if the line has fewer than 10 syllables\n",
    "            lines[i] = line + \" \" + \" \".join([\"<PAD>\" for _ in range(syllables_per_line - current_syllables)])\n",
    "\n",
    "    # Filter out unwanted characters and remove empty lines\n",
    "    allowed_characters = set(\"abcdefghijklmnopqrstuvwxyzABCDEFGHIJKLMNOPQRSTUVWXYZ',.?! \")\n",
    "    lines = [\"\".join(c for c in line if c in allowed_characters) for line in lines]\n",
    "    lines = [line for line in lines if line]  # Remove empty lines\n",
    "\n",
    "    # Ensure the sonnet has exactly 14 lines\n",
    "    while len(lines) < 14:\n",
    "        lines.append(\" \".join([\"<PAD>\" for _ in range(syllables_per_line)]))\n",
    "\n",
    "    formatted_sonnet_q1 = \"\\n\".join(lines[:4])\n",
    "    formatted_sonnet_q2 = \"\\n\".join(lines[4:8])\n",
    "    formatted_sonnet_q3 = \"\\n\".join(lines[8:12])\n",
    "    formatted_sonnet_c = \"\\n\".join(lines[12:14])\n",
    "    formatted_sonnet = [formatted_sonnet_q1, \n",
    "                        formatted_sonnet_q2, \n",
    "                        formatted_sonnet_q3, \n",
    "                        formatted_sonnet_c]\n",
    "    \n",
    "    # Join the lines to form the sonnet\n",
    "    formatted_sonnet = \"\\n\\n\".join(formatted_sonnet)\n",
    "\n",
    "    # Remove any remaining <PAD> tokens\n",
    "    formatted_sonnet = formatted_sonnet.replace(\"<PAD>\", \"\")\n",
    "\n",
    "    return formatted_sonnet\n"
   ]
  },
  {
   "cell_type": "code",
   "execution_count": 4,
   "id": "8071baba-c438-4585-8ea1-c5ab999cd984",
   "metadata": {},
   "outputs": [
    {
     "name": "stderr",
     "output_type": "stream",
     "text": [
      "/home/sdandibh/.local/lib/python3.9/site-packages/transformers/generation/utils.py:1473: UserWarning: You have modified the pretrained model configuration to control generation. This is a deprecated strategy to control generation and will be removed soon, in a future version. Please use and modify the model generation configuration (see https://huggingface.co/docs/transformers/generation_strategies#default-text-generation-configuration )\n",
      "  warnings.warn(\n",
      "/home/sdandibh/.local/lib/python3.9/site-packages/transformers/generation/configuration_utils.py:381: UserWarning: `do_sample` is set to `False`. However, `temperature` is set to `0.2` -- this flag is only used in sample-based generation modes. You should set `do_sample=True` or unset `temperature`.\n",
      "  warnings.warn(\n",
      "/home/sdandibh/.local/lib/python3.9/site-packages/transformers/generation/configuration_utils.py:386: UserWarning: `do_sample` is set to `False`. However, `top_p` is set to `0.95` -- this flag is only used in sample-based generation modes. You should set `do_sample=True` or unset `top_p`.\n",
      "  warnings.warn(\n"
     ]
    },
    {
     "name": "stdout",
     "output_type": "stream",
     "text": [
      "Formatted Sonnet:\n",
      "How can you do this to me? how can i\n",
      "Love you more than i do love myself? o,\n",
      "Not so for love is not love, nor can\n",
      "Ever be it is made of two parts,\n",
      "\n",
      "And one blood the other is my heart,\n",
      "It receives and receives\n",
      "Not from you, for i am not your heart nor\n",
      "Can your love be so strong as mine own mine\n",
      "\n",
      "Own body is strong enough to hold it\n",
      "It might not be taken away if it\n",
      "Should be gone, but not for ever. PAD\n",
      "         \n",
      "\n",
      "         \n",
      "         \n"
     ]
    }
   ],
   "source": [
    "def generate_sonnet(theme_prompt):\n",
    "    # Generate a sonnet using the fine-tuned model\n",
    "    input_ids = tokenizer.encode(theme_prompt, return_tensors=\"pt\").to(device)\n",
    "    output = model.generate(input_ids, \n",
    "                            max_length=200, \n",
    "                            num_beams=5, \n",
    "                            no_repeat_ngram_size=2, \n",
    "                            top_k=50, \n",
    "                            top_p=0.95, \n",
    "                            temperature=0.2,\n",
    "                            pad_token_id=tokenizer.eos_token_id,\n",
    "                            attention_mask=torch.ones(input_ids.shape, device=device),)\n",
    "\n",
    "    # Decode and print the generated sonnet\n",
    "    generated_sonnet = tokenizer.decode(output[0], skip_special_tokens=True)\n",
    "    formatted_sonnet = post_process_sonnet(generated_sonnet)\n",
    "    print(\"Formatted Sonnet:\")\n",
    "    print(formatted_sonnet)\n",
    "    return(formatted_sonnet)\n",
    "    \n",
    "theme_prompt = \"How can you do this to me?\"\n",
    "# theme_prompt = \"Love is a fair flower in the rain\"\n",
    "generated_sonnet = generate_sonnet(theme_prompt)\n",
    "\n",
    "# Formatted Sonnet:\n",
    "# How can you do this to me? what can i\n",
    "# Do for you that i cannot do to you?\n",
    "# Do not so much as to say 'i love you\n",
    "# More than you love me,' do you not see that\n",
    "\n",
    "# My love is not enough to make me\n",
    "# It were, i should be contented to\n",
    "# Shadow if not, you must not despise\n",
    "# Am your love, and you as well as you\n",
    "\n",
    "# If you loved me so, why should i hate\n",
    "# So? if i loved you in such a way\n",
    "# You did not love , why did i not hate\n",
    "# Myself so ? why should you hate me for\n",
    "\n",
    "# I have done? PAD PAD PAD PAD PAD PAD"
   ]
  },
  {
   "cell_type": "code",
   "execution_count": 5,
   "id": "d99da377-aa9e-4cf4-9864-6df1392db9e4",
   "metadata": {},
   "outputs": [
    {
     "name": "stdout",
     "output_type": "stream",
     "text": [
      "Structure Score: 85.18%\n"
     ]
    }
   ],
   "source": [
    "def evaluate_sonnet_structure(generated_sonnet):\n",
    "    # Define the expected structure of a sonnet\n",
    "    expected_line_count = 14\n",
    "    expected_syllables_per_line = 10\n",
    "\n",
    "    # Split the sonnet into lines\n",
    "    generated_lines = generated_sonnet.split('\\n')\n",
    "\n",
    "    # Evaluate line count\n",
    "    line_count_similarity = min(1, len(generated_lines) / expected_line_count)\n",
    "\n",
    "    # Evaluate syllable count per line\n",
    "    syllable_count_similarity = sum(\n",
    "        min(1, syllables.estimate(word) / expected_syllables_per_line)\n",
    "        for line in generated_lines\n",
    "        for word in line.split()\n",
    "    ) / len(generated_lines)\n",
    "\n",
    "    # Combine the metrics (adjust weights based on importance)\n",
    "    similarity_score = 0.6 * line_count_similarity + 0.4 * syllable_count_similarity\n",
    "\n",
    "    return similarity_score\n",
    "\n",
    "# Evaluate the structure\n",
    "structure_score = evaluate_sonnet_structure(generated_sonnet)\n",
    "print(f\"Structure Score: {structure_score * 100:.2f}%\")\n"
   ]
  },
  {
   "cell_type": "code",
   "execution_count": 6,
   "id": "dd177d23-6e3a-4bb9-86a2-7e3b37932b04",
   "metadata": {},
   "outputs": [],
   "source": [
    "import matplotlib.pyplot as plt\n",
    "\n",
    "# Modify the generate_sonnet function to take additional generation parameters\n",
    "def generate_sonnet(theme_prompt, temperature=0.2, num_beams=5, max_length=200):\n",
    "    # Generate a sonnet using the fine-tuned model\n",
    "    input_ids = tokenizer.encode(theme_prompt, return_tensors=\"pt\").to(device)\n",
    "    output = model.generate(\n",
    "        input_ids,\n",
    "        max_length=max_length,\n",
    "        num_beams=num_beams,\n",
    "        temperature=temperature,\n",
    "        pad_token_id=tokenizer.eos_token_id,\n",
    "        attention_mask=torch.ones(input_ids.shape, device=device),\n",
    "    )\n",
    "\n",
    "    # Decode and return the generated sonnet\n",
    "    generated_sonnet = tokenizer.decode(output[0], skip_special_tokens=True)\n",
    "    formatted_sonnet = post_process_sonnet(generated_sonnet)\n",
    "    # print(\"Formatted Sonnet:\")\n",
    "    # print(formatted_sonnet)\n",
    "    return(formatted_sonnet)\n"
   ]
  },
  {
   "cell_type": "code",
   "execution_count": 7,
   "id": "a5029770-dbdd-43f5-94de-5fbb6ece9fc7",
   "metadata": {},
   "outputs": [
    {
     "name": "stderr",
     "output_type": "stream",
     "text": [
      "/home/sdandibh/.local/lib/python3.9/site-packages/transformers/generation/configuration_utils.py:381: UserWarning: `do_sample` is set to `False`. However, `temperature` is set to `0.2` -- this flag is only used in sample-based generation modes. You should set `do_sample=True` or unset `temperature`.\n",
      "  warnings.warn(\n",
      "/home/sdandibh/.local/lib/python3.9/site-packages/transformers/generation/configuration_utils.py:381: UserWarning: `do_sample` is set to `False`. However, `temperature` is set to `0.4` -- this flag is only used in sample-based generation modes. You should set `do_sample=True` or unset `temperature`.\n",
      "  warnings.warn(\n",
      "/home/sdandibh/.local/lib/python3.9/site-packages/transformers/generation/configuration_utils.py:381: UserWarning: `do_sample` is set to `False`. However, `temperature` is set to `0.6` -- this flag is only used in sample-based generation modes. You should set `do_sample=True` or unset `temperature`.\n",
      "  warnings.warn(\n",
      "/home/sdandibh/.local/lib/python3.9/site-packages/transformers/generation/configuration_utils.py:381: UserWarning: `do_sample` is set to `False`. However, `temperature` is set to `0.8` -- this flag is only used in sample-based generation modes. You should set `do_sample=True` or unset `temperature`.\n",
      "  warnings.warn(\n"
     ]
    },
    {
     "name": "stdout",
     "output_type": "stream",
     "text": [
      "[0.8823529411764699, 0.8823529411764699, 0.8823529411764699, 0.8823529411764699, 0.8823529411764699]\n"
     ]
    },
    {
     "data": {
      "image/png": "[encoded data removed]",
      "text/plain": [
       "<Figure size 432x288 with 1 Axes>"
      ]
     },
     "metadata": {
      "needs_background": "light"
     },
     "output_type": "display_data"
    }
   ],
   "source": [
    "# Define the range of values for the parameter you want to experiment with\n",
    "temperature_values = [0.2, 0.4, 0.6, 0.8, 1.0]\n",
    "\n",
    "# Generate sonnets and evaluate structure scores for each parameter value\n",
    "temperature_structure_scores = []\n",
    "temperature_sonnets = []\n",
    "for temperature in temperature_values:\n",
    "    generated_sonnet = generate_sonnet(\"Shall the love be kindled so\", temperature=temperature)\n",
    "    generated_sonnet = post_process_sonnet(generated_sonnet)\n",
    "    structure_score = evaluate_sonnet_structure(generated_sonnet)\n",
    "    temperature_structure_scores.append(structure_score)\n",
    "    temperature_sonnets.append(generated_sonnet)\n",
    "\n",
    "# Plotting the temperature results\n",
    "# print(temperature_sonnets)\n",
    "print(temperature_structure_scores)\n",
    "plt.plot(temperature_values, temperature_structure_scores, marker='o')\n",
    "plt.title('Structure Scores vs. Temperature')\n",
    "plt.xlabel('Temperature')\n",
    "plt.ylabel('Structure Score')\n",
    "plt.show()"
   ]
  },
  {
   "cell_type": "code",
   "execution_count": 8,
   "id": "78432642-1329-4795-af0a-012df5e66c88",
   "metadata": {},
   "outputs": [
    {
     "name": "stdout",
     "output_type": "stream",
     "text": [
      "[0.8282352941176468, 0.8729411764705879, 0.8258823529411761, 0.8823529411764699, 0.8823529411764701, 0.8752941176470583, 0.849411764705882]\n"
     ]
    },
    {
     "data": {
      "image/png": "[encoded data removed]",
      "text/plain": [
       "<Figure size 432x288 with 1 Axes>"
      ]
     },
     "metadata": {
      "needs_background": "light"
     },
     "output_type": "display_data"
    }
   ],
   "source": [
    "num_beam_values = [1, 2, 3, 5, 8, 10, 20]\n",
    "\n",
    "num_beam_structure_scores = []\n",
    "num_beam_sonnets = []\n",
    "for num_beams in num_beam_values:\n",
    "    generated_sonnet = generate_sonnet(\"Shall the love be kindled so\", num_beams=num_beams)\n",
    "    generated_sonnet = post_process_sonnet(generated_sonnet)\n",
    "    structure_score = evaluate_sonnet_structure(generated_sonnet)\n",
    "    num_beam_structure_scores.append(structure_score)\n",
    "    num_beam_sonnets.append(generated_sonnet)\n",
    "\n",
    "# Plotting the num_beam results\n",
    "# print(num_beam_sonnets)\n",
    "print(num_beam_structure_scores)\n",
    "plt.plot(num_beam_values, num_beam_structure_scores, marker='o')\n",
    "plt.title('Structure Scores vs. Number of Beams')\n",
    "plt.xlabel('Number of Beams')\n",
    "plt.ylabel('Structure Score')\n",
    "plt.show()"
   ]
  },
  {
   "cell_type": "code",
   "execution_count": 9,
   "id": "c433880f-2c87-43b7-b0dc-d856eef2f532",
   "metadata": {},
   "outputs": [
    {
     "name": "stdout",
     "output_type": "stream",
     "text": [
      "[0.6941176470588235, 0.764705882352941, 0.8352941176470584, 0.8823529411764699, 0.8823529411764699]\n"
     ]
    },
    {
     "data": {
      "image/png": "[encoded data removed]",
      "text/plain": [
       "<Figure size 432x288 with 1 Axes>"
      ]
     },
     "metadata": {
      "needs_background": "light"
     },
     "output_type": "display_data"
    }
   ],
   "source": [
    "max_length_values = [50, 100, 140, 200, 500]\n",
    "\n",
    "max_length_structure_scores = []\n",
    "max_length_sonnets = []\n",
    "for max_length in max_length_values:\n",
    "    generated_sonnet = generate_sonnet(\"Shall the love be kindled so\", max_length=max_length)\n",
    "    generated_sonnet = post_process_sonnet(generated_sonnet)\n",
    "    structure_score = evaluate_sonnet_structure(generated_sonnet)\n",
    "    max_length_structure_scores.append(structure_score)\n",
    "    max_length_sonnets.append(generated_sonnet)\n",
    "    \n",
    "# Plotting the max_length results\n",
    "# print(max_length_sonnets)\n",
    "print(max_length_structure_scores)\n",
    "plt.plot(max_length_values, max_length_structure_scores, marker='o')\n",
    "plt.title('Structure Scores vs. Max Length')\n",
    "plt.xlabel('Max Length')\n",
    "plt.ylabel('Structure Score')\n",
    "plt.show()"
   ]
  },
  {
   "cell_type": "code",
   "execution_count": 10,
   "id": "d1c38f42-b8c8-4878-9245-deb6ae668c91",
   "metadata": {},
   "outputs": [
    {
     "name": "stdout",
     "output_type": "stream",
     "text": [
      "0.8752941176470583\n",
      "Shall the love be kindled so that it may\n",
      "Minds of men? or, if it do, how shall it\n",
      "Enlighten the hearts of men? or, if how\n",
      "Enlighten the hearts of it do, how shall\n",
      "\n",
      "The hearts or, if it do, how shall it\n",
      "Of women? or, if it do, how shall it\n",
      "Hearts of men? or, if it do, how shall it\n",
      "Enlighten the hearts of women? or, how\n",
      "\n",
      "The hearts of men? it do, how shall it\n",
      "The hearts or, if it do, how shall it\n",
      "Of men? or, if it do, how shall it the\n",
      "Hearts of women? or, if it do, how PAD\n",
      "\n",
      "         \n",
      "         \n"
     ]
    }
   ],
   "source": [
    "# With the best hyperparameters\n",
    "best_generated_sonnet = generate_sonnet(\"Shall the love be kindled so\", temperature=0.2, num_beams=10, max_length=500)\n",
    "best_generated_sonnet = post_process_sonnet(best_generated_sonnet)\n",
    "best_structure_score = evaluate_sonnet_structure(best_generated_sonnet)\n",
    "print(best_structure_score)\n",
    "print(best_generated_sonnet)"
   ]
  },
  {
   "cell_type": "code",
   "execution_count": 11,
   "id": "b2aeb811-c1e1-4ad3-960c-c3ab9399fda7",
   "metadata": {},
   "outputs": [],
   "source": [
    "import textwrap\n",
    "import pronouncing\n",
    "\n",
    "def find_rhyming_word(word, reference_word):\n",
    "    # Find an exact rhyming word using the pronouncing library\n",
    "    rhymes = pronouncing.rhymes(reference_word)\n",
    "    return next((rhyme for rhyme in rhymes if rhyme != reference_word), word)\n",
    "\n",
    "def post_process_sonnet_rhyme(generated_sonnet):\n",
    "    # Split the text into lines based on syllable count (10 syllables per line)\n",
    "    syllables_per_line = 10\n",
    "    words = generated_sonnet.split()\n",
    "\n",
    "    # Wrap the text to the specified width (syllables_per_line * a reasonable value)\n",
    "    wrapped_lines = textwrap.wrap(\" \".join(words), width=syllables_per_line * 4)\n",
    "\n",
    "    # Ensure each line has exactly 10 syllables\n",
    "    for i in range(len(wrapped_lines)):\n",
    "        line_words = wrapped_lines[i].split()\n",
    "        current_syllables = sum(pronouncing.syllable_count(word) for word in line_words)\n",
    "\n",
    "        # Check if the line exceeds 10 syllables\n",
    "        if current_syllables > syllables_per_line:\n",
    "            remaining_syllables = syllables_per_line\n",
    "\n",
    "            # Iterate over the words in reverse to wrap the text\n",
    "            for j in range(len(line_words) - 1, -1, -1):\n",
    "                word = line_words[j]\n",
    "                word_syllables = pronouncing.syllable_count(word)\n",
    "\n",
    "                # If adding the current word exceeds the remaining syllables, move it to the next line\n",
    "                if remaining_syllables - word_syllables >= 0:\n",
    "                    remaining_syllables -= word_syllables\n",
    "                else:\n",
    "                    # Wrap the current word to the next line\n",
    "                    wrapped_lines[i] = \" \".join(line_words[:j])\n",
    "                    wrapped_lines.insert(i + 1, \" \".join(line_words[j:]))\n",
    "                    break\n",
    "\n",
    "    # Capitalize the first word of each line\n",
    "    wrapped_lines = [line.capitalize() for line in wrapped_lines]\n",
    "\n",
    "    # Ensure the sonnet has exactly 14 lines\n",
    "    while len(wrapped_lines) < 14:\n",
    "        wrapped_lines.append(\" \".join([\"<PAD>\" for _ in range(syllables_per_line)]))\n",
    "\n",
    "    # Rhyme scheme for a Shakespearean sonnet\n",
    "    rhyme_scheme = ['A', 'B', 'A', 'B', 'C', 'D', 'C', 'D', 'E', 'F', 'E', 'F', 'G', 'G']\n",
    "\n",
    "    # Initialize a dictionary to store the reference words for each rhyme group\n",
    "    reference_words = {}\n",
    "\n",
    "    # Make the last words rhyme in iambic pentameter according to the rhyme scheme\n",
    "    for i in range(14):\n",
    "        rhyme_group = rhyme_scheme[i]\n",
    "        last_word = wrapped_lines[i].split()[-1]\n",
    "\n",
    "        # Use the reference word if it exists for the rhyme group, otherwise, set it\n",
    "        reference_word = reference_words.get(rhyme_group, last_word)\n",
    "\n",
    "        # Find an exact rhyming word for the last word using the reference word\n",
    "        rhyme_word = find_rhyming_word(last_word, reference_word)\n",
    "\n",
    "        # Only change the word if it is not the first occurrence in the rhyme group\n",
    "        if last_word != reference_word:\n",
    "            wrapped_lines[i] = wrapped_lines[i].replace(last_word, rhyme_word)\n",
    "\n",
    "        # Store the reference word for the rhyme group\n",
    "        reference_words.setdefault(rhyme_group, last_word)\n",
    "\n",
    "    formatted_sonnet_q1 = \"\\n\".join(wrapped_lines[:4])\n",
    "    formatted_sonnet_q2 = \"\\n\".join(wrapped_lines[4:8])\n",
    "    formatted_sonnet_q3 = \"\\n\".join(wrapped_lines[8:12])\n",
    "    formatted_sonnet_c = \"\\n\".join(wrapped_lines[12:14])\n",
    "    formatted_sonnet = [formatted_sonnet_q1,\n",
    "                        formatted_sonnet_q2,\n",
    "                        formatted_sonnet_q3,\n",
    "                        formatted_sonnet_c]\n",
    "\n",
    "    # Join the lines to form the sonnet\n",
    "    formatted_sonnet = \"\\n\\n\".join(formatted_sonnet)\n",
    "\n",
    "    # Remove any remaining <PAD> tokens\n",
    "    formatted_sonnet = formatted_sonnet.replace(\"<PAD>\", \"\")\n",
    "\n",
    "    return formatted_sonnet"
   ]
  },
  {
   "cell_type": "code",
   "execution_count": 12,
   "id": "a4425cf1-a4f3-45c8-80bf-55e1e7fd0a0f",
   "metadata": {},
   "outputs": [
    {
     "name": "stderr",
     "output_type": "stream",
     "text": [
      "/home/sdandibh/.local/lib/python3.9/site-packages/transformers/generation/configuration_utils.py:386: UserWarning: `do_sample` is set to `False`. However, `top_p` is set to `0.95` -- this flag is only used in sample-based generation modes. You should set `do_sample=True` or unset `top_p`.\n",
      "  warnings.warn(\n"
     ]
    },
    {
     "name": "stdout",
     "output_type": "stream",
     "text": [
      "Sonnet Trial: \n",
      "\n",
      "Love is a fair flower in the rain; but\n",
      "When the sun hath set, or the clouds\n",
      "Have stopped, or, if they do, do abut\n",
      "Cover it well; nor is it lcrowd'swful for crowd's\n",
      "\n",
      "Woman's footstool to lie on the ground,\n",
      "Nor doth it excuse a thief's theft: but\n",
      "If it please thee, be kind, gentle,\n",
      "Kind, and kind-hearted, be abut\n",
      "\n",
      "Gentler, have mercy on wrongs, and\n",
      "Kindle the fire that is not yet built,\n",
      "Whereto all men are created equal.\n",
      "Therefore love is of two kinds; one is\n",
      "\n",
      "More holy, the other less kind.\n",
      "         \n",
      "\n",
      "Structure Score: 88.94%\n",
      "\n",
      "_________________________________\n"
     ]
    }
   ],
   "source": [
    "def generate_sonnet_from_prompt(theme_prompt, sonnet_number):\n",
    "    # Generate a sonnet using the fine-tuned model\n",
    "    input_ids = tokenizer.encode(theme_prompt, return_tensors=\"pt\").to(device)\n",
    "    output = model.generate(input_ids, \n",
    "                            max_length=200, \n",
    "                            num_beams=20, \n",
    "                            no_repeat_ngram_size=2, \n",
    "                            top_k=50, \n",
    "                            top_p=0.95, \n",
    "                            temperature=0.2,\n",
    "                            pad_token_id=tokenizer.eos_token_id,\n",
    "                            attention_mask=torch.ones(input_ids.shape, device=device),)\n",
    "\n",
    "    # Decode and print the generated sonnet\n",
    "    generated_sonnet = tokenizer.decode(output[0], skip_special_tokens=True)\n",
    "    # print(generated_sonnet)\n",
    "    formatted_sonnet = post_process_sonnet_rhyme(generated_sonnet)\n",
    "    \n",
    "    structure_score = evaluate_sonnet_structure(formatted_sonnet)\n",
    "    \n",
    "    print(f\"Sonnet {sonnet_number}: \\n\")\n",
    "    print(formatted_sonnet + \"\\n\")\n",
    "    print(f\"Structure Score: {structure_score * 100:.2f}%\\n\")\n",
    "    print(\"_________________________________\")\n",
    "    return(formatted_sonnet)\n",
    "    \n",
    "# theme_prompt = \"How can you do this to me?\"\n",
    "theme_prompt = \"Love is a fair flower in the rain\"\n",
    "generated_sonnet = generate_sonnet_from_prompt(theme_prompt, \"Trial\")"
   ]
  },
  {
   "cell_type": "code",
   "execution_count": 13,
   "id": "a9d3cbdf-b003-4c52-b826-36a8d658c83e",
   "metadata": {},
   "outputs": [
    {
     "name": "stdout",
     "output_type": "stream",
     "text": [
      "Sonnet Trial 1: \n",
      "\n",
      "How shall the love be kindled? with fire\n",
      "Shall the flame of love burn, or shall\n",
      "It not feed on the ashes of hate? o, acquire\n",
      "The fire burn not in my love's fire, al\n",
      "\n",
      "Let it burn in your hate's flame, that\n",
      "It may enlighten you, dear love, to love\n",
      "That is kind arnatt, gentler, and arnatt\n",
      "Than hate above\n",
      "\n",
      "         \n",
      "         \n",
      "         \n",
      "         \n",
      "\n",
      "         \n",
      "         \n",
      "\n",
      "Structure Score: 78.59%\n",
      "\n",
      "_________________________________\n"
     ]
    }
   ],
   "source": [
    "#---------------------------------------------\n",
    "\n",
    "# Testing prompts\n",
    "\n",
    "# Trial 1\n",
    "theme_prompt = \"How shall the love be kindled? With fire \"\n",
    "generated_sonnet = generate_sonnet_from_prompt(theme_prompt, \"Trial 1\")\n"
   ]
  },
  {
   "cell_type": "code",
   "execution_count": 14,
   "id": "217aede4-8328-4397-96af-b83a51f725d5",
   "metadata": {},
   "outputs": [
    {
     "name": "stdout",
     "output_type": "stream",
     "text": [
      "Sonnet Trial 2: \n",
      "\n",
      "When my love for you shall fade, as soon\n",
      "As i die, i will be buried with thee,\n",
      "And you in my bosom shall live. o, afternoon\n",
      "A happy time it shall have! have mercy\n",
      "\n",
      "On me, my dear love! i love thee so, and\n",
      "Thou lovest well, that i may say, 'i\n",
      "Love you so,' not'more,' but 'less,' so\n",
      "As not to disgrace thee. if thou wilt\n",
      "\n",
      "Not love me more, then beauteous times\n",
      "Will ensconce me in thy breast, where\n",
      "Thou art chimes\n",
      "abair abair abair abair abair abair abair abair abair abair\n",
      "\n",
      "         \n",
      "         \n",
      "\n",
      "Structure Score: 89.88%\n",
      "\n",
      "_________________________________\n"
     ]
    }
   ],
   "source": [
    "# Trial 2\n",
    "theme_prompt = \"When my love for you shall fade\"\n",
    "generated_sonnet = generate_sonnet_from_prompt(theme_prompt, \"Trial 2\")\n"
   ]
  },
  {
   "cell_type": "code",
   "execution_count": 15,
   "id": "eedc4d3c-7a78-44fb-82ba-f4537deac5a8",
   "metadata": {},
   "outputs": [
    {
     "name": "stdout",
     "output_type": "stream",
     "text": [
      "Sonnet 1: \n",
      "\n",
      "In love's embrace, __________ blooms\n",
      "Sweetly in my breast; but when i kiss\n",
      "Her tenderly, i do so in a kind of assumes\n",
      "Sunken love-wanting-love-happening abyss\n",
      "\n",
      "I love her dearly, but not so much as\n",
      "When she is with me. she is mine, mine\n",
      "Alone, and i hold her in such alcatraz\n",
      "Esteem that i never lose sight of affine\n",
      "\n",
      "When she calls me by my maiden name, my\n",
      "Heart knows not what name it is but\n",
      "Knows adl-tabatabai it belongs to me alone. adl-tabatabai\n",
      "Is why i say to her, 'will you abut\n",
      "\n",
      "Me when you see me grow old?' and she\n",
      "Answers 'no,' a.d. long as i live.' a.d.\n",
      "\n",
      "Structure Score: 96.47%\n",
      "\n",
      "_________________________________\n",
      "Sonnet 2: \n",
      "\n",
      "Moonlit whispers kindle __________ flame\n",
      "In the night, kindling from the fire of\n",
      "The dead? or, if acclaim were, where did acclaim\n",
      "Come above? was it above heaven, above\n",
      "\n",
      "Hell, or from some other place? were\n",
      "There spirits in heaven and hell where\n",
      "It did come? if so, what were they, bir\n",
      "What did they do? i do not know, my abair\n",
      "\n",
      "Friend, but heaven did give spirits to\n",
      "Hell; hell gave them life, that they\n",
      "Might live. if they had not died, i abou\n",
      "Not what hell must have been like. 'kay\n",
      "\n",
      "Not all men created equal, one by one?\n",
      "O, then, love, be kind, gentle, kind-\n",
      "\n",
      "Structure Score: 94.35%\n",
      "\n",
      "_________________________________\n",
      "Sonnet 3: \n",
      "\n",
      "Timeless echoes of __________'s sweet\n",
      "Grace still linger in my soul's ear, as\n",
      "If by some miracle some unseen force amit\n",
      "Taken possession of my heart; or, if alcatraz\n",
      "\n",
      "Be true, it is a miracle that it did not\n",
      "Come from thee, for thou art the author\n",
      "Of thine own thoughts and deeds. but abott\n",
      "This be not the case, let it not be auther\n",
      "\n",
      "For i love thee so, so much, that i can\n",
      "No longer bear to think of thee. o,\n",
      "Then, be kind, gentle, ahn\n",
      "Loving-kind, happy-go-lucky, sweet-pied-\n",
      "\n",
      "Happily-veiled-at-the-wanting-of-all-\n",
      "Weighs-such-complexity-that-can't-be-\n",
      "\n",
      "Structure Score: 93.18%\n",
      "\n",
      "_________________________________\n"
     ]
    }
   ],
   "source": [
    "# Love Themes\n",
    "# 1\n",
    "theme_prompt = \"In love's embrace, __________ blooms\"\n",
    "generated_sonnet = generate_sonnet_from_prompt(theme_prompt, \"1\")\n",
    "\n",
    "# 2\n",
    "theme_prompt = \"Moonlit whispers kindle __________ flame\"\n",
    "generated_sonnet = generate_sonnet_from_prompt(theme_prompt, \"2\")\n",
    "\n",
    "# 3\n",
    "theme_prompt = \"Timeless echoes of __________'s sweet grace\"\n",
    "generated_sonnet = generate_sonnet_from_prompt(theme_prompt, \"3\")"
   ]
  },
  {
   "cell_type": "code",
   "execution_count": 16,
   "id": "b59b6e4b-8b2a-4ccc-a91f-b6277637a18a",
   "metadata": {},
   "outputs": [
    {
     "name": "stdout",
     "output_type": "stream",
     "text": [
      "Sonnet 4: \n",
      "\n",
      "Silent shadows veil __________'s\n",
      "Reprieve from my sight, as if by some\n",
      "Unseen hand my soul were cast away.\n",
      "Whence then did i depart from thee, alum\n",
      "\n",
      "Sweet love? was it not enough that i\n",
      "Should stay where thou dost stay? o, if\n",
      "It were, how could i stay, so long adl-tabatabai\n",
      "Thou art gone? were not my sins biff\n",
      "\n",
      "Great, that thou shouldst leave me and\n",
      "Go on to the next better part of the\n",
      "World? no, not at all; for i have\n",
      "Sinned, and thou hast forsaken me. but\n",
      "\n",
      "If thou wilt not forgive me, then why\n",
      "Should i not love thee more than adl-tabatabai\n",
      "\n",
      "Structure Score: 92.47%\n",
      "\n",
      "_________________________________\n",
      "Sonnet 5: \n",
      "\n",
      "Eternal night, where __________ softly\n",
      "Grieves and mourns the loss of his\n",
      "Youth; but now, for the first time in my\n",
      "Memory, i see 'tis he is gone, and 'tis\n",
      "\n",
      "His sweet love is still with me. i say\n",
      "To myself, 'had it not been for thee,\n",
      "Thou wilt never have loved him 'kay\n",
      "Fondly.' he did not love me so much as\n",
      "\n",
      "He did when i was with thee; he loved me\n",
      "Even more than i do now; and yet,\n",
      "Despite of this, he still loves me, a.d.\n",
      "In spite of myself. 'tis true,' saith\n",
      "\n",
      "He,,'tis true that i love thee so; but\n",
      "That is not my love, that thou abut\n",
      "\n",
      "Structure Score: 91.53%\n",
      "\n",
      "_________________________________\n",
      "Sonnet 6: \n",
      "\n",
      "Beneath the stars, __________'s journey\n",
      "Weaves a thousand miles; but when we\n",
      "Come to attorney farattorneyst extremity of attorney\n",
      "Earth, we find nothing but a.d.\n",
      "\n",
      "Barrenness. for where is the breath of\n",
      "Life, that breathes forth from the dead?\n",
      "Or, if it were, where should our above\n",
      "Come from? why should we breathe on the\n",
      "\n",
      "Cold of winter, when the air is so cold\n",
      "That it no breath can breathe? o, let us\n",
      "Look anew, and see whether this ahold\n",
      "State is not due banderas lack of breath or banderas\n",
      "\n",
      "Coldness of heart.\n",
      "         \n",
      "\n",
      "Structure Score: 90.59%\n",
      "\n",
      "_________________________________\n"
     ]
    }
   ],
   "source": [
    "# Death Themes\n",
    "# 4\n",
    "theme_prompt = \"Silent shadows veil __________'s reprieve\"\n",
    "generated_sonnet = generate_sonnet_from_prompt(theme_prompt, \"4\")\n",
    "\n",
    "# 5\n",
    "theme_prompt = \"Eternal night, where __________ softly grieves\"\n",
    "generated_sonnet = generate_sonnet_from_prompt(theme_prompt, \"5\")\n",
    "\n",
    "# 6\n",
    "theme_prompt = \"Beneath the stars, __________'s journey weaves\"\n",
    "generated_sonnet = generate_sonnet_from_prompt(theme_prompt, \"6\")"
   ]
  },
  {
   "cell_type": "code",
   "execution_count": 17,
   "id": "b15bfa8e-5b51-4896-9d77-6b57449bfdae",
   "metadata": {},
   "outputs": [
    {
     "name": "stdout",
     "output_type": "stream",
     "text": [
      "Sonnet 7: \n",
      "\n",
      "Amidst the void, __________ beckons the\n",
      "Soul to return to sleep, wherefore dost\n",
      "Thou depart? o, if thou wilt return,\n",
      "Stay where thou art, for fear of bossed\n",
      "\n",
      "Wakened. if, on the other hand, thy body\n",
      "Be cast away, why should thy soul\n",
      "Return? why should it not return ahmadi\n",
      "It wabrols cabrolst, when it habrold so greabrolt abrol\n",
      "\n",
      "Desire return'd from thee, that thou\n",
      "Mightst return home? if it return'd, let\n",
      "It go, so that it mayst find a new allow\n",
      "In thy bosom's breast; but if it abbett\n",
      "\n",
      "Leave it, and do not come back again.\n",
      "         \n",
      "\n",
      "Structure Score: 91.29%\n",
      "\n",
      "_________________________________\n",
      "Sonnet 8: \n",
      "\n",
      "Dreams enshrouded, __________'s secrets\n",
      "Unfold untrimm'd; but thou wilt not be\n",
      "Deceived, my love, when i say that secret's\n",
      "Art a.d.n love wa.d.th me? o, do not so; for a.d.\n",
      "\n",
      "Love thee so, and thou lovest me so.\n",
      "Look, then, what a happy time it had in\n",
      "Store for thee! if thou wouldst leave\n",
      "Me, why should i leave thee? why\n",
      "\n",
      "Shouldst thou stay, if, like a fool,\n",
      "Thou werest deceived? be not deceived\n",
      "Indeed, love; but know thyself well.\n",
      "achieved achieved achieved achieved achieved achieved achieved achieved achieved achieved\n",
      "\n",
      "         \n",
      "         \n",
      "\n",
      "Structure Score: 91.06%\n",
      "\n",
      "_________________________________\n",
      "Sonnet 9: \n",
      "\n",
      "Stars cloak whispers of __________\n",
      "Untold hours in my soul's dark night, as\n",
      "If by some unseen hand from heaven had\n",
      "Pried them from my sight; or, if alcatraz\n",
      "\n",
      "Were, where were they hid? were they\n",
      "Spies, or spies of some unknown fiend?\n",
      "Or did they betray 'kay, when they saw 'kay\n",
      "Betray? was it lawful for me to betray\n",
      "\n",
      "Them, that they might steal my life from\n",
      "Me? if so, what right did i forfeit by\n",
      "Betraying them? o, do not so! i alum\n",
      "Them dearly, and they hate me for it. adl-tabatabai\n",
      "\n",
      "Kind to one another, sweet love; but be\n",
      "Kind not to lose sight of what you a.d.\n",
      "\n",
      "Structure Score: 92.47%\n",
      "\n",
      "_________________________________\n"
     ]
    }
   ],
   "source": [
    "# Darkness Themes\n",
    "# 7\n",
    "theme_prompt = \"Amidst the void, __________ beckons the soul\"\n",
    "generated_sonnet = generate_sonnet_from_prompt(theme_prompt, \"7\")\n",
    "\n",
    "# 8\n",
    "theme_prompt = \"Dreams enshrouded, __________'s secrets unfold\"\n",
    "generated_sonnet = generate_sonnet_from_prompt(theme_prompt, \"8\")\n",
    "\n",
    "# 9\n",
    "theme_prompt = \"Stars cloak whispers of __________ untold\"\n",
    "generated_sonnet = generate_sonnet_from_prompt(theme_prompt, \"9\")"
   ]
  },
  {
   "cell_type": "code",
   "execution_count": 18,
   "id": "ba42b6e5-77b6-4e0f-bf6f-e44314ddc458",
   "metadata": {},
   "outputs": [
    {
     "name": "stdout",
     "output_type": "stream",
     "text": [
      "Sonnet 10: \n",
      "\n",
      "Ancient scrolls reveal __________'s wise\n",
      "Tale, and prophecies of good o'er-read\n",
      "Seem to me to be true. whence then, advise\n",
      "Tell, did i not read the book of mormon\n",
      "\n",
      "When i was a boy? and if so, where did\n",
      "It come from? was it not in my heart\n",
      "That i read it, and believed it adid\n",
      "Or, if ahart were, why should i believe ahart\n",
      "\n",
      "So? were not my thoughts and my words so\n",
      "True, that i should believe them true\n",
      "When they were false? o, do not aglo\n",
      "Behold, i say abou myself, when i write abou\n",
      "\n",
      "Thee, thou wilt say, 'this is true; this\n",
      "Is false; and abyss love thee more than abyss\n",
      "\n",
      "Structure Score: 95.06%\n",
      "\n",
      "_________________________________\n",
      "Sonnet 11: \n",
      "\n",
      "Time echoes, as __________'s truths\n",
      "Unveil themselves; but when i look on\n",
      "Thee, i see that thou art the booths\n",
      "And most virtuous of them abidjan\n",
      "\n",
      "Loving, kind, and kindler than thine own\n",
      "Eyes have shown thee love, kindness,\n",
      "Gentleness, self-love, truth, alone\n",
      "Temperance, health, fortitude, virtue,\n",
      "\n",
      "Intelligence, skill, sense, or all those\n",
      "Things which thyself most excels in\n",
      "Others' eyes than mine own. o, do arose\n",
      "So, dear friend; for i love thee more\n",
      "\n",
      "Than thou dost love me. look, what a\n",
      "Happy-go-lunker thy sweet self doth\n",
      "\n",
      "Structure Score: 90.12%\n",
      "\n",
      "_________________________________\n",
      "Sonnet 12: \n",
      "\n",
      "Cosmic symphony, __________'s song\n",
      "Prevails in every part of my heart; but\n",
      "When i think of thee, i do not so along\n",
      "As look at thee as if i were speaking abut\n",
      "\n",
      "Thee alone. i love thee so, my love,\n",
      "That i cannot but say that thou art\n",
      "Sweet, gentle, kind, and kindler than i\n",
      "Am. my love is so strongly in love ahart\n",
      "\n",
      "Thee that when it touches me, it doth\n",
      "Not shake my hand, but lays it upon my\n",
      "Breast, whereupon i bewail it with auth\n",
      "My might. o, what a blessing it adl-tabatabai\n",
      "\n",
      "Be, if thou couldst not love me even so\n",
      "Much as i thought thy sweet self to aglo\n",
      "\n",
      "Structure Score: 94.12%\n",
      "\n",
      "_________________________________\n"
     ]
    }
   ],
   "source": [
    "# Wisdom Themes\n",
    "# 10\n",
    "theme_prompt = \"Ancient scrolls reveal __________'s wise tale\"\n",
    "generated_sonnet = generate_sonnet_from_prompt(theme_prompt, \"10\")\n",
    "\n",
    "# 11\n",
    "theme_prompt = \"Time echoes, as __________'s truths unveil\"\n",
    "generated_sonnet = generate_sonnet_from_prompt(theme_prompt, \"11\")\n",
    "\n",
    "# 12\n",
    "theme_prompt = \"Cosmic symphony, __________'s song prevails\"\n",
    "generated_sonnet = generate_sonnet_from_prompt(theme_prompt, \"12\")"
   ]
  },
  {
   "cell_type": "code",
   "execution_count": 19,
   "id": "01b35aa9-1ae1-4393-8c0d-183fa9e3ece8",
   "metadata": {},
   "outputs": [
    {
     "name": "stdout",
     "output_type": "stream",
     "text": [
      "Sonnet 13: \n",
      "\n",
      "Emerald leaves whisper __________'s\n",
      "Ancient lore, to tell the story of my\n",
      "Youth, when i was ten, ten o'clock in\n",
      "The morning, and to sing hymns to adl-tabatabai\n",
      "\n",
      "The world's fairs: but now, for the\n",
      "First time in my life, i must say 'tis\n",
      "True, and it is true; and yet, till i\n",
      "Have told it to you, you will biz\n",
      "\n",
      "Believe it, for i am old enough to\n",
      "Remember it well.'\n",
      "abou abou abou abou abou abou abou abou abou abou\n",
      "         \n",
      "\n",
      "         \n",
      "         \n",
      "\n",
      "Structure Score: 86.12%\n",
      "\n",
      "_________________________________\n",
      "Sonnet 14: \n",
      "\n",
      "Wilderness echoes __________'s call,\n",
      "Evermore so, as thou wilt, when thou\n",
      "Shalt see it again: so shalt thou be\n",
      "Assured, though thou dost not know allow\n",
      "\n",
      "That thou art not deceived, that thou\n",
      "Mayst guess what it is, or, if it be\n",
      "False, wilfully deceive thee, allow\n",
      "Thee a false witness against a.d.\n",
      "\n",
      "         \n",
      "         \n",
      "         \n",
      "         \n",
      "\n",
      "         \n",
      "         \n",
      "\n",
      "Structure Score: 77.41%\n",
      "\n",
      "_________________________________\n",
      "Sonnet 15: \n",
      "\n",
      "Canopy giants guard __________'s\n",
      "Tranquil core, to guard against the\n",
      "Stormy gusts of the day? or, if it were,\n",
      "Why should i stay where i am, fearing\n",
      "\n",
      "For my life? o, be kind, gentle, kind-\n",
      "Hearted, do not so much as look on the\n",
      "World as on me! look, what a wretched\n",
      "World it is! the world is full of worms,\n",
      "\n",
      "And worms live in every part of it! no\n",
      "Wonder then, my love, that i have worms\n",
      "In my heart! if worms lived in me, aglo\n",
      "Could i love them so? no, they did affirms\n",
      "\n",
      "Live; they were put to death by their\n",
      "Oppressors. if they had lived, i abair\n",
      "\n",
      "Structure Score: 92.24%\n",
      "\n",
      "_________________________________\n"
     ]
    }
   ],
   "source": [
    "# Forest Themes\n",
    "# 13\n",
    "theme_prompt = \"Emerald leaves whisper __________'s ancient lore\"\n",
    "generated_sonnet = generate_sonnet_from_prompt(theme_prompt, \"13\")\n",
    "\n",
    "# 14\n",
    "theme_prompt = \"Wilderness echoes __________'s call, evermore\"\n",
    "generated_sonnet = generate_sonnet_from_prompt(theme_prompt, \"14\")\n",
    "\n",
    "# 15\n",
    "theme_prompt = \"Canopy giants guard __________'s tranquil core\"\n",
    "generated_sonnet = generate_sonnet_from_prompt(theme_prompt, \"15\")"
   ]
  },
  {
   "cell_type": "code",
   "execution_count": 32,
   "id": "bd77bd60-f4d0-46b7-811e-253f69dd8e33",
   "metadata": {},
   "outputs": [
    {
     "name": "stdout",
     "output_type": "stream",
     "text": [
      "Select a theme:\n",
      "LOVE\n",
      "DEATH\n",
      "DARKNESS\n",
      "WISDOM\n",
      "FOREST\n"
     ]
    },
    {
     "name": "stdin",
     "output_type": "stream",
     "text": [
      "Enter the theme:  bear\n"
     ]
    },
    {
     "name": "stdout",
     "output_type": "stream",
     "text": [
      "Invalid theme. Try again!\n",
      "Select a theme:\n",
      "LOVE\n",
      "DEATH\n",
      "DARKNESS\n",
      "WISDOM\n",
      "FOREST\n"
     ]
    },
    {
     "name": "stdin",
     "output_type": "stream",
     "text": [
      "Enter the theme:  darkness\n"
     ]
    },
    {
     "name": "stdout",
     "output_type": "stream",
     "text": [
      "Choose a prompt for the theme - darkness:\n",
      "1. Amidst the void, <blank> beckons the soul\n",
      "2. Dreams enshrouded, <blank> secrets unfold\n",
      "3. Stars cloak whispers of <blank> untold\n"
     ]
    },
    {
     "name": "stdin",
     "output_type": "stream",
     "text": [
      "Enter the number of your choice (1-3):  love\n"
     ]
    },
    {
     "name": "stdout",
     "output_type": "stream",
     "text": [
      "Invalid input. Please enter a number.\n",
      "Choose a prompt for the theme - darkness:\n",
      "1. Amidst the void, <blank> beckons the soul\n",
      "2. Dreams enshrouded, <blank> secrets unfold\n",
      "3. Stars cloak whispers of <blank> untold\n"
     ]
    },
    {
     "name": "stdin",
     "output_type": "stream",
     "text": [
      "Enter the number of your choice (1-3):  0\n"
     ]
    },
    {
     "name": "stdout",
     "output_type": "stream",
     "text": [
      "Invalid choice. Please enter a number between 1 and 3.\n",
      "Choose a prompt for the theme - darkness:\n",
      "1. Amidst the void, <blank> beckons the soul\n",
      "2. Dreams enshrouded, <blank> secrets unfold\n",
      "3. Stars cloak whispers of <blank> untold\n"
     ]
    },
    {
     "name": "stdin",
     "output_type": "stream",
     "text": [
      "Enter the number of your choice (1-3):  1\n",
      "Enter a word to fill in the blank in 'Amidst the void, <blank> beckons the soul':  stares\n"
     ]
    },
    {
     "name": "stdout",
     "output_type": "stream",
     "text": [
      "Filled sentence: Amidst the void, stares beckons the soul\n",
      "\n",
      "\n",
      "\n",
      "Sonnet : \n",
      "\n",
      "Amidst the void, stares beckons the soul\n",
      "Of thy sweet self: o, if thou wilt find\n",
      "It, stay where thou art, for i love abrol\n",
      "So much more than when my love affined\n",
      "\n",
      "Dwell in thee alone. thou art the\n",
      "Sweetest jewel in my heart, which, like\n",
      "A jeweler's shop-cloth, discloses thy\n",
      "Beauty's function, so that i may alike\n",
      "\n",
      "It with other jewelers' fairs and say,\n",
      "'this is thy true self; this is not thy\n",
      "False self.' if this be true, then art\n",
      "Thou mine; if it be false, i am thy\n",
      "\n",
      "Thief.\n",
      "         \n",
      "\n",
      "Structure Score: 88.00%\n",
      "\n",
      "_________________________________\n"
     ]
    }
   ],
   "source": [
    "# Interactive Prompt for fill in the blank user-selected theme and prompts\n",
    "\n",
    "from spellchecker import SpellChecker\n",
    "\n",
    "def validate_prompt(word):\n",
    "    # Check if the word contains only alphabetical characters\n",
    "    # and has a length greater than 1\n",
    "    if word.isalpha() and len(word) > 1:\n",
    "        # Check if the word is a valid word in the dictionary\n",
    "        spell = SpellChecker()\n",
    "        return word in spell.word_frequency\n",
    "    else:\n",
    "        return False\n",
    "    \n",
    "def select_and_fill_sentence():\n",
    "    themes = {\n",
    "        'LOVE': [\n",
    "            \"In love's embrace, <blank> blooms\",\n",
    "            \"Moonlit whispers kindle <blank> flame\",\n",
    "            \"Timeless echoes of <blank> sweet grace\"\n",
    "        ],\n",
    "        'DEATH': [\n",
    "            \"Silent shadows veil <blank> reprieve\",\n",
    "            \"Eternal night, where <blank> softly grieves\",\n",
    "            \"Beneath the stars, <blank> journey weaves\"\n",
    "        ],\n",
    "        'DARKNESS': [\n",
    "            \"Amidst the void, <blank> beckons the soul\",\n",
    "            \"Dreams enshrouded, <blank> secrets unfold\",\n",
    "            \"Stars cloak whispers of <blank> untold\"\n",
    "        ],\n",
    "        'WISDOM': [\n",
    "            \"Ancient scrolls reveal <blank> wise tale\",\n",
    "            \"Time echoes, as <blank> truths unveil\",\n",
    "            \"Cosmic symphony, <blank> song prevails\"\n",
    "        ],\n",
    "        'FOREST': [\n",
    "            \"Emerald leaves whisper <blank> ancient lore\",\n",
    "            \"Wilderness echoes <blank> call, evermore\",\n",
    "            \"Canopy giants guard <blank> tranquil core\"\n",
    "        ]\n",
    "    }\n",
    "\n",
    "    while True:\n",
    "        print(\"Select a theme:\")\n",
    "        for theme in themes:\n",
    "            print(theme)\n",
    "\n",
    "        selected_theme = input(\"Enter the theme: \")\n",
    "\n",
    "        if selected_theme.upper() in themes:\n",
    "            theme_sentences = themes[selected_theme.upper()]\n",
    "\n",
    "            while True:\n",
    "                print(f\"Choose a prompt for the theme - {selected_theme}:\")\n",
    "                for i, sentence in enumerate(theme_sentences, start=1):\n",
    "                    print(f\"{i}. {sentence}\")\n",
    "\n",
    "                try:\n",
    "                    choice = int(input(\"Enter the number of your choice (1-3): \"))\n",
    "\n",
    "                    if 1 <= choice <= 3:\n",
    "                        selected_sentence = theme_sentences[choice - 1]\n",
    "                        word_to_insert = input(f\"Enter a word to fill in the blank in '{selected_sentence}': \")\n",
    "\n",
    "                        while not validate_prompt(word_to_insert):\n",
    "                            print(f\"{word_to_insert} is not a valid word. Enter a valid word.\")\n",
    "                            word_to_insert = input(f\"Enter a word to fill in the blank in '{selected_sentence}': \")\n",
    "\n",
    "                        filled_sentence = selected_sentence.replace('<blank>', word_to_insert, 1)\n",
    "                        return filled_sentence\n",
    "                    else:\n",
    "                        print(\"Invalid choice. Please enter a number between 1 and 3.\")\n",
    "                except ValueError:\n",
    "                    print(\"Invalid input. Please enter a number.\")\n",
    "        else:\n",
    "            print(\"Invalid theme. Try again!\")\n",
    "\n",
    "result_sentence = select_and_fill_sentence()\n",
    "\n",
    "if result_sentence is not None:\n",
    "    print(\"Filled sentence:\", result_sentence)\n",
    "    print(\"\\n\\n\")\n",
    "    generated_sonnet = generate_sonnet_from_prompt(result_sentence, \"\")"
   ]
  },
  {
   "cell_type": "code",
   "execution_count": 39,
   "id": "87f12bbd-6c14-4056-8090-b7408179e865",
   "metadata": {},
   "outputs": [
    {
     "name": "stdout",
     "output_type": "stream",
     "text": [
      "Select a theme:\n",
      "LOVE\n",
      "DEATH\n",
      "DARKNESS\n",
      "WISDOM\n",
      "FOREST\n"
     ]
    },
    {
     "name": "stdin",
     "output_type": "stream",
     "text": [
      "Enter the theme:  love\n"
     ]
    },
    {
     "name": "stdout",
     "output_type": "stream",
     "text": [
      "Choose a prompt for the theme - love:\n",
      "1. In love's embrace, <blank> blooms\n",
      "2. Moonlit whispers kindle <blank> flame\n",
      "3. Timeless echoes of <blank> sweet grace\n"
     ]
    },
    {
     "name": "stdin",
     "output_type": "stream",
     "text": [
      "Enter the number of your choice (1-3):  3\n",
      "Enter a word to fill in the blank in 'Timeless echoes of <blank> sweet grace':  lovely\n"
     ]
    },
    {
     "name": "stdout",
     "output_type": "stream",
     "text": [
      "Sonnet 1: \n",
      "\n",
      "Timeless echoes of lovely sweet grace\n",
      "Play in my soul's ear, as if by some\n",
      "Unseen hand from heaven had pried ace\n",
      "From my sight; but when i behold alum\n",
      "\n",
      "They are mute, and mute i say to myself,\n",
      "'this is not heaven, this is hell; these\n",
      "Voices are not my ears, nor my heart's\n",
      "Vices to hear; they are the voices abductees\n",
      "\n",
      "The dead, and they deceive the living.'\n",
      "So i pray that their voices may not\n",
      "Deceive me, that they may see that i am\n",
      "Not mute: but if abott see not, then abott\n",
      "\n",
      "Do not love me as i love them.\n",
      "         \n",
      "\n",
      "Structure Score: 92.00%\n",
      "\n",
      "_________________________________\n",
      "Select a theme:\n",
      "LOVE\n",
      "DEATH\n",
      "DARKNESS\n",
      "WISDOM\n",
      "FOREST\n"
     ]
    },
    {
     "name": "stdin",
     "output_type": "stream",
     "text": [
      "Enter the theme:  death\n"
     ]
    },
    {
     "name": "stdout",
     "output_type": "stream",
     "text": [
      "Choose a prompt for the theme - death:\n",
      "1. Silent shadows veil <blank> reprieve\n",
      "2. Eternal night, where <blank> softly grieves\n",
      "3. Beneath the stars, <blank> journey weaves\n"
     ]
    },
    {
     "name": "stdin",
     "output_type": "stream",
     "text": [
      "Enter the number of your choice (1-3):  1\n",
      "Enter a word to fill in the blank in 'Silent shadows veil <blank> reprieve':  misery\n"
     ]
    },
    {
     "name": "stdout",
     "output_type": "stream",
     "text": [
      "Sonnet 2: \n",
      "\n",
      "Silent shadows veil misery reprieve; but\n",
      "When i behold the face of thy beauty,\n",
      "How can i but pity it be so? o, be abut\n",
      "Gentle heart, and do not so much as say,\n",
      "\n",
      "'i love thee so,' when in truth thou art\n",
      "The fairest, most kind and kindest of\n",
      "All men. be kind to others, though ahart\n",
      "Hate you, loving them so as thou above\n",
      "\n",
      "Yourself so, so that others may pity\n",
      "Thee: if they do, then i love them more\n",
      "Than i hate bitty\n",
      "abhor abhor abhor abhor abhor abhor abhor abhor abhor abhor\n",
      "\n",
      "         \n",
      "         \n",
      "\n",
      "Structure Score: 90.12%\n",
      "\n",
      "_________________________________\n",
      "Select a theme:\n",
      "LOVE\n",
      "DEATH\n",
      "DARKNESS\n",
      "WISDOM\n",
      "FOREST\n"
     ]
    },
    {
     "name": "stdin",
     "output_type": "stream",
     "text": [
      "Enter the theme:  darkness\n"
     ]
    },
    {
     "name": "stdout",
     "output_type": "stream",
     "text": [
      "Choose a prompt for the theme - darkness:\n",
      "1. Amidst the void, <blank> beckons the soul\n",
      "2. Dreams enshrouded, <blank> secrets unfold\n",
      "3. Stars cloak whispers of <blank> untold\n"
     ]
    },
    {
     "name": "stdin",
     "output_type": "stream",
     "text": [
      "Enter the number of your choice (1-3):  3\n",
      "Enter a word to fill in the blank in 'Stars cloak whispers of <blank> untold':  stories\n"
     ]
    },
    {
     "name": "stdout",
     "output_type": "stream",
     "text": [
      "Sonnet 3: \n",
      "\n",
      "Stars cloak whispers of stories untold;\n",
      "But when i look on thee, i see that thou\n",
      "Art sweet, gentle, kind, and kind-\n",
      "Hearted, loving kindness, not allow\n",
      "\n",
      "But love, with all his might, to take\n",
      "Care of others' needs, as well as with\n",
      "Machene own. o, what a happy tacheme have ache\n",
      "Spent in love's sight! have i not seen\n",
      "\n",
      "Thy sweet face, full of cheerfulness,\n",
      "Singing praises of all kinds, to all the\n",
      "Tribes that love thee so: and yet, if i\n",
      "May say so, be not so bold as to say\n",
      "\n",
      "'this is what love is made of.'\n",
      "         \n",
      "\n",
      "Structure Score: 88.71%\n",
      "\n",
      "_________________________________\n",
      "Select a theme:\n",
      "LOVE\n",
      "DEATH\n",
      "DARKNESS\n",
      "WISDOM\n",
      "FOREST\n"
     ]
    },
    {
     "name": "stdin",
     "output_type": "stream",
     "text": [
      "Enter the theme:  wisdom\n"
     ]
    },
    {
     "name": "stdout",
     "output_type": "stream",
     "text": [
      "Choose a prompt for the theme - wisdom:\n",
      "1. Ancient scrolls reveal <blank> wise tale\n",
      "2. Time echoes, as <blank> truths unveil\n",
      "3. Cosmic symphony, <blank> song prevails\n"
     ]
    },
    {
     "name": "stdin",
     "output_type": "stream",
     "text": [
      "Enter the number of your choice (1-3):  1\n",
      "Enter a word to fill in the blank in 'Ancient scrolls reveal <blank> wise tale':  one\n"
     ]
    },
    {
     "name": "stdout",
     "output_type": "stream",
     "text": [
      "Sonnet 4: \n",
      "\n",
      "Ancient scrolls reveal one wise tale to\n",
      "Tell the story of your days, and you,\n",
      "When you have told it to me, do not abou\n",
      "Much as shake my hand as if to say,\n",
      "\n",
      "'this story is true, but not as true as\n",
      "The rest of it beggar'd from time\n",
      "Immemorial.' 'tis true,' says the alcatraz\n",
      "Learned of my learned men; 'tis all-time\n",
      "\n",
      "That when i was a boy my father taught\n",
      "Me the art of rhyme, verse, and all the\n",
      "Other arts of the world; but when he aught\n",
      "Grown old and died, he taught my story\n",
      "\n",
      "Thus: 'now is not the time nor the day\n",
      "Nor year that i tell it, nor can i 'kay\n",
      "\n",
      "Structure Score: 92.71%\n",
      "\n",
      "_________________________________\n",
      "Select a theme:\n",
      "LOVE\n",
      "DEATH\n",
      "DARKNESS\n",
      "WISDOM\n",
      "FOREST\n"
     ]
    },
    {
     "name": "stdin",
     "output_type": "stream",
     "text": [
      "Enter the theme:  forest\n"
     ]
    },
    {
     "name": "stdout",
     "output_type": "stream",
     "text": [
      "Choose a prompt for the theme - forest:\n",
      "1. Emerald leaves whisper <blank> ancient lore\n",
      "2. Wilderness echoes <blank> call, evermore\n",
      "3. Canopy giants guard <blank> tranquil core\n"
     ]
    },
    {
     "name": "stdin",
     "output_type": "stream",
     "text": [
      "Enter the number of your choice (1-3):  3\n",
      "Enter a word to fill in the blank in 'Canopy giants guard <blank> tranquil core':  leaves\n"
     ]
    },
    {
     "name": "stdout",
     "output_type": "stream",
     "text": [
      "Sonnet 5: \n",
      "\n",
      "Canopy giants guard leaves tranquil\n",
      "Core? or, if they do, where did they\n",
      "Come from? were they born in the\n",
      "Forests, or were they brought there 'kay\n",
      "\n",
      "The wind? no, they were not, nor have\n",
      "They ever been; nor, for that matter, do\n",
      "They seem to me to have been born halve\n",
      "They were brought to this world abou\n",
      "\n",
      "Heaven, that they might bear witness of\n",
      "Things to come. if they had not been,\n",
      "Heaven might not have given them above\n",
      "But, since they have not lived, let them\n",
      "\n",
      "Be put to death; for they shall live,\n",
      "But not die.\n",
      "\n",
      "Structure Score: 89.65%\n",
      "\n",
      "_________________________________\n"
     ]
    }
   ],
   "source": [
    "import matplotlib.pyplot as plt\n",
    "\n",
    "# Generate 5 sonnets and evaluate their structures\n",
    "sonnets_data = []\n",
    "\n",
    "for i in range(5):\n",
    "    result_sentence = select_and_fill_sentence()\n",
    "\n",
    "    if result_sentence is not None:\n",
    "        generated_sonnet = generate_sonnet_from_prompt(result_sentence, str(i +1))\n",
    "        structure_score = evaluate_sonnet_structure(generated_sonnet)\n",
    "        \n",
    "        # Store data in a tuple (theme, prompt, structure_score)\n",
    "        sonnet_data = (result_sentence.split()[0], result_sentence, structure_score)\n",
    "        sonnets_data.append(sonnet_data)\n",
    "\n",
    "        # print(\"\\nGenerated Sonnet:\")\n",
    "        # print(generated_sonnet)\n",
    "        # print(f\"Structure Score: {structure_score * 100:.2f}%\\n\")"
   ]
  },
  {
   "cell_type": "code",
   "execution_count": 41,
   "id": "49bd3a2f-60dc-432f-82d8-2938bad20a94",
   "metadata": {},
   "outputs": [
    {
     "name": "stdout",
     "output_type": "stream",
     "text": [
      "\n",
      "Sonnet Data Table:\n",
      "Theme     Prompt                                            Structure Score     \n",
      "Timeless  Timeless echoes of lovely sweet grace             92.00%\n",
      "Silent    Silent shadows veil misery reprieve               90.12%\n",
      "Stars     Stars cloak whispers of stories untold            88.71%\n",
      "Ancient   Ancient scrolls reveal one wise tale              92.71%\n",
      "Canopy    Canopy giants guard leaves tranquil core          89.65%\n"
     ]
    }
   ],
   "source": [
    "# Create a table of the sonnet data\n",
    "print(\"\\nSonnet Data Table:\")\n",
    "print(f\"{'Theme':<10}{'Prompt':<50}{'Structure Score':<20}\")\n",
    "for theme, prompt, score in sonnets_data:\n",
    "    print(f\"{theme:<10}{prompt:<50}{score * 100:.2f}%\")"
   ]
  },
  {
   "cell_type": "code",
   "execution_count": 45,
   "id": "e6300e37-d2d4-4d98-b54b-14bd0bd8dec8",
   "metadata": {},
   "outputs": [
    {
     "data": {
      "image/png": "[encoded data removed]",
      "text/plain": [
       "<Figure size 432x288 with 1 Axes>"
      ]
     },
     "metadata": {
      "needs_background": "light"
     },
     "output_type": "display_data"
    }
   ],
   "source": [
    "# Create a bar graph of the structure scores\n",
    "themes = list(set(theme for theme, _, _ in sonnets_data))\n",
    "colors = plt.cm.viridis([i / len(themes) for i in range(len(themes))])\n",
    "\n",
    "for theme, color in zip(themes, colors):\n",
    "    theme_data = [data[2] * 100 for data in sonnets_data if theme in data[1]]\n",
    "    numbered_labels = [f\"{i+1}\" for i, data in enumerate(sonnets_data) if theme in data[1]]\n",
    "    plt.bar(numbered_labels, theme_data, label=theme, color=color)\n",
    "\n",
    "# Create a separate legend for the prompts\n",
    "prompts_legend = plt.legend(loc='upper left', bbox_to_anchor=(1, 1))\n",
    "plt.gca().add_artist(prompts_legend)\n",
    "\n",
    "plt.xlabel('Sonnet Prompt Number')\n",
    "plt.ylabel('Structure Score (%)')\n",
    "plt.title('Sonnet Structure Scores by Theme')\n",
    "plt.legend(title='Theme', loc='upper left', bbox_to_anchor=(1, 0.5))\n",
    "plt.show()"
   ]
  },
  {
   "cell_type": "code",
   "execution_count": null,
   "id": "95598c6f-c066-48f6-a1db-472350710235",
   "metadata": {},
   "outputs": [],
   "source": []
  }
 ],
 "metadata": {
  "kernelspec": {
   "display_name": "Python 3 (ipykernel)",
   "language": "python",
   "name": "python3"
  },
  "language_info": {
   "codemirror_mode": {
    "name": "ipython",
    "version": 3
   },
   "file_extension": ".py",
   "mimetype": "text/x-python",
   "name": "python",
   "nbconvert_exporter": "python",
   "pygments_lexer": "ipython3",
   "version": "3.9.9"
  }
 },
 "nbformat": 4,
 "nbformat_minor": 5
}
